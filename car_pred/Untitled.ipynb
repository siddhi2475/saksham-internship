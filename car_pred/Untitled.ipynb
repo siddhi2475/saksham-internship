{
 "cells": [
  {
   "cell_type": "code",
   "execution_count": 1,
   "id": "5a69cc38-1d66-410c-9dfd-dec8c7e9ebcb",
   "metadata": {},
   "outputs": [],
   "source": [
    "import pandas as pd\n",
    "import seaborn as sns\n",
    "import matplotlib. pyplot as plt\n",
    "import numpy as np"
   ]
  },
  {
   "cell_type": "code",
   "execution_count": 2,
   "id": "7be57a71-3b40-4113-b88c-5a2b1e1053dc",
   "metadata": {},
   "outputs": [],
   "source": [
    "data= pd.read_csv('car_price_pred.csv')"
   ]
  },
  {
   "cell_type": "code",
   "execution_count": 3,
   "id": "c8131897-740d-4f69-9706-7e9596d3470a",
   "metadata": {},
   "outputs": [
    {
     "data": {
      "text/html": [
       "<div>\n",
       "<style scoped>\n",
       "    .dataframe tbody tr th:only-of-type {\n",
       "        vertical-align: middle;\n",
       "    }\n",
       "\n",
       "    .dataframe tbody tr th {\n",
       "        vertical-align: top;\n",
       "    }\n",
       "\n",
       "    .dataframe thead th {\n",
       "        text-align: right;\n",
       "    }\n",
       "</style>\n",
       "<table border=\"1\" class=\"dataframe\">\n",
       "  <thead>\n",
       "    <tr style=\"text-align: right;\">\n",
       "      <th></th>\n",
       "      <th>ID</th>\n",
       "      <th>Price</th>\n",
       "      <th>Levy</th>\n",
       "      <th>Manufacturer</th>\n",
       "      <th>Model</th>\n",
       "      <th>Prod. year</th>\n",
       "      <th>Category</th>\n",
       "      <th>Leather interior</th>\n",
       "      <th>Fuel type</th>\n",
       "      <th>Engine volume</th>\n",
       "      <th>Mileage</th>\n",
       "      <th>Cylinders</th>\n",
       "      <th>Gear box type</th>\n",
       "      <th>Drive wheels</th>\n",
       "      <th>Doors</th>\n",
       "      <th>Wheel</th>\n",
       "      <th>Color</th>\n",
       "      <th>Airbags</th>\n",
       "    </tr>\n",
       "  </thead>\n",
       "  <tbody>\n",
       "    <tr>\n",
       "      <th>0</th>\n",
       "      <td>45654403</td>\n",
       "      <td>13328</td>\n",
       "      <td>1399</td>\n",
       "      <td>LEXUS</td>\n",
       "      <td>RX 450</td>\n",
       "      <td>2010</td>\n",
       "      <td>Jeep</td>\n",
       "      <td>Yes</td>\n",
       "      <td>Hybrid</td>\n",
       "      <td>3.5</td>\n",
       "      <td>186005 km</td>\n",
       "      <td>6</td>\n",
       "      <td>Automatic</td>\n",
       "      <td>4x4</td>\n",
       "      <td>4-May</td>\n",
       "      <td>Left wheel</td>\n",
       "      <td>Silver</td>\n",
       "      <td>12</td>\n",
       "    </tr>\n",
       "    <tr>\n",
       "      <th>1</th>\n",
       "      <td>44731507</td>\n",
       "      <td>16621</td>\n",
       "      <td>1018</td>\n",
       "      <td>CHEVROLET</td>\n",
       "      <td>Equinox</td>\n",
       "      <td>2011</td>\n",
       "      <td>Jeep</td>\n",
       "      <td>No</td>\n",
       "      <td>Petrol</td>\n",
       "      <td>3</td>\n",
       "      <td>192000 km</td>\n",
       "      <td>6</td>\n",
       "      <td>Tiptronic</td>\n",
       "      <td>4x4</td>\n",
       "      <td>4-May</td>\n",
       "      <td>Left wheel</td>\n",
       "      <td>Black</td>\n",
       "      <td>8</td>\n",
       "    </tr>\n",
       "    <tr>\n",
       "      <th>2</th>\n",
       "      <td>45774419</td>\n",
       "      <td>8467</td>\n",
       "      <td>-</td>\n",
       "      <td>HONDA</td>\n",
       "      <td>FIT</td>\n",
       "      <td>2006</td>\n",
       "      <td>Hatchback</td>\n",
       "      <td>No</td>\n",
       "      <td>Petrol</td>\n",
       "      <td>1.3</td>\n",
       "      <td>200000 km</td>\n",
       "      <td>4</td>\n",
       "      <td>Variator</td>\n",
       "      <td>Front</td>\n",
       "      <td>4-May</td>\n",
       "      <td>Right-hand drive</td>\n",
       "      <td>Black</td>\n",
       "      <td>2</td>\n",
       "    </tr>\n",
       "    <tr>\n",
       "      <th>3</th>\n",
       "      <td>45769185</td>\n",
       "      <td>3607</td>\n",
       "      <td>862</td>\n",
       "      <td>FORD</td>\n",
       "      <td>Escape</td>\n",
       "      <td>2011</td>\n",
       "      <td>Jeep</td>\n",
       "      <td>Yes</td>\n",
       "      <td>Hybrid</td>\n",
       "      <td>2.5</td>\n",
       "      <td>168966 km</td>\n",
       "      <td>4</td>\n",
       "      <td>Automatic</td>\n",
       "      <td>4x4</td>\n",
       "      <td>4-May</td>\n",
       "      <td>Left wheel</td>\n",
       "      <td>White</td>\n",
       "      <td>0</td>\n",
       "    </tr>\n",
       "    <tr>\n",
       "      <th>4</th>\n",
       "      <td>45809263</td>\n",
       "      <td>11726</td>\n",
       "      <td>446</td>\n",
       "      <td>HONDA</td>\n",
       "      <td>FIT</td>\n",
       "      <td>2014</td>\n",
       "      <td>Hatchback</td>\n",
       "      <td>Yes</td>\n",
       "      <td>Petrol</td>\n",
       "      <td>1.3</td>\n",
       "      <td>91901 km</td>\n",
       "      <td>4</td>\n",
       "      <td>Automatic</td>\n",
       "      <td>Front</td>\n",
       "      <td>4-May</td>\n",
       "      <td>Left wheel</td>\n",
       "      <td>Silver</td>\n",
       "      <td>4</td>\n",
       "    </tr>\n",
       "  </tbody>\n",
       "</table>\n",
       "</div>"
      ],
      "text/plain": [
       "         ID  Price  Levy Manufacturer    Model  Prod. year   Category  \\\n",
       "0  45654403  13328  1399        LEXUS   RX 450        2010       Jeep   \n",
       "1  44731507  16621  1018    CHEVROLET  Equinox        2011       Jeep   \n",
       "2  45774419   8467     -        HONDA      FIT        2006  Hatchback   \n",
       "3  45769185   3607   862         FORD   Escape        2011       Jeep   \n",
       "4  45809263  11726   446        HONDA      FIT        2014  Hatchback   \n",
       "\n",
       "  Leather interior Fuel type Engine volume    Mileage  Cylinders  \\\n",
       "0              Yes    Hybrid           3.5  186005 km          6   \n",
       "1               No    Petrol             3  192000 km          6   \n",
       "2               No    Petrol           1.3  200000 km          4   \n",
       "3              Yes    Hybrid           2.5  168966 km          4   \n",
       "4              Yes    Petrol           1.3   91901 km          4   \n",
       "\n",
       "  Gear box type Drive wheels  Doors             Wheel   Color  Airbags  \n",
       "0     Automatic          4x4  4-May        Left wheel  Silver       12  \n",
       "1     Tiptronic          4x4  4-May        Left wheel   Black        8  \n",
       "2      Variator        Front  4-May  Right-hand drive   Black        2  \n",
       "3     Automatic          4x4  4-May        Left wheel   White        0  \n",
       "4     Automatic        Front  4-May        Left wheel  Silver        4  "
      ]
     },
     "execution_count": 3,
     "metadata": {},
     "output_type": "execute_result"
    }
   ],
   "source": [
    "data.head()"
   ]
  },
  {
   "cell_type": "code",
   "execution_count": 4,
   "id": "d6751703-c9b6-487d-94a7-d3df26178559",
   "metadata": {},
   "outputs": [
    {
     "data": {
      "text/plain": [
       "(19237, 18)"
      ]
     },
     "execution_count": 4,
     "metadata": {},
     "output_type": "execute_result"
    }
   ],
   "source": [
    "data.shape"
   ]
  },
  {
   "cell_type": "code",
   "execution_count": 5,
   "id": "fb4732a6-4344-4dbc-887a-bd7848e1c504",
   "metadata": {},
   "outputs": [
    {
     "data": {
      "text/plain": [
       "<bound method NDFrame.describe of              ID  Price  Levy   Manufacturer    Model  Prod. year   Category  \\\n",
       "0      45654403  13328  1399          LEXUS   RX 450        2010       Jeep   \n",
       "1      44731507  16621  1018      CHEVROLET  Equinox        2011       Jeep   \n",
       "2      45774419   8467     -          HONDA      FIT        2006  Hatchback   \n",
       "3      45769185   3607   862           FORD   Escape        2011       Jeep   \n",
       "4      45809263  11726   446          HONDA      FIT        2014  Hatchback   \n",
       "...         ...    ...   ...            ...      ...         ...        ...   \n",
       "19232  45798355   8467     -  MERCEDES-BENZ  CLK 200        1999      Coupe   \n",
       "19233  45778856  15681   831        HYUNDAI   Sonata        2011      Sedan   \n",
       "19234  45804997  26108   836        HYUNDAI   Tucson        2010       Jeep   \n",
       "19235  45793526   5331  1288      CHEVROLET  Captiva        2007       Jeep   \n",
       "19236  45813273    470   753        HYUNDAI   Sonata        2012      Sedan   \n",
       "\n",
       "      Leather interior Fuel type Engine volume    Mileage  Cylinders  \\\n",
       "0                  Yes    Hybrid           3.5  186005 km          6   \n",
       "1                   No    Petrol             3  192000 km          6   \n",
       "2                   No    Petrol           1.3  200000 km          4   \n",
       "3                  Yes    Hybrid           2.5  168966 km          4   \n",
       "4                  Yes    Petrol           1.3   91901 km          4   \n",
       "...                ...       ...           ...        ...        ...   \n",
       "19232              Yes       CNG     2.0 Turbo  300000 km          4   \n",
       "19233              Yes    Petrol           2.4  161600 km          4   \n",
       "19234              Yes    Diesel             2  116365 km          4   \n",
       "19235              Yes    Diesel             2   51258 km          4   \n",
       "19236              Yes    Hybrid           2.4  186923 km          4   \n",
       "\n",
       "      Gear box type Drive wheels  Doors             Wheel   Color  Airbags  \n",
       "0         Automatic          4x4  4-May        Left wheel  Silver       12  \n",
       "1         Tiptronic          4x4  4-May        Left wheel   Black        8  \n",
       "2          Variator        Front  4-May  Right-hand drive   Black        2  \n",
       "3         Automatic          4x4  4-May        Left wheel   White        0  \n",
       "4         Automatic        Front  4-May        Left wheel  Silver        4  \n",
       "...             ...          ...    ...               ...     ...      ...  \n",
       "19232        Manual         Rear  2-Mar        Left wheel  Silver        5  \n",
       "19233     Tiptronic        Front  4-May        Left wheel     Red        8  \n",
       "19234     Automatic        Front  4-May        Left wheel    Grey        4  \n",
       "19235     Automatic        Front  4-May        Left wheel   Black        4  \n",
       "19236     Automatic        Front  4-May        Left wheel   White       12  \n",
       "\n",
       "[19237 rows x 18 columns]>"
      ]
     },
     "execution_count": 5,
     "metadata": {},
     "output_type": "execute_result"
    }
   ],
   "source": [
    "data.describe"
   ]
  },
  {
   "cell_type": "code",
   "execution_count": 11,
   "id": "b298649b-6e9e-4362-bafc-0c7984fcd57a",
   "metadata": {},
   "outputs": [],
   "source": [
    "data=data.sample(1000)"
   ]
  },
  {
   "cell_type": "code",
   "execution_count": 12,
   "id": "2ebdc580-443f-4aff-ad35-1210d65239f7",
   "metadata": {},
   "outputs": [
    {
     "data": {
      "text/plain": [
       "(1000, 18)"
      ]
     },
     "execution_count": 12,
     "metadata": {},
     "output_type": "execute_result"
    }
   ],
   "source": [
    "data.shape\n"
   ]
  },
  {
   "cell_type": "code",
   "execution_count": 13,
   "id": "f58e2d8f-e060-49f1-bec8-c61158be6f61",
   "metadata": {},
   "outputs": [
    {
     "data": {
      "image/png": "[encoded data removed]",
      "text/plain": [
       "<Figure size 1500x500 with 2 Axes>"
      ]
     },
     "metadata": {},
     "output_type": "display_data"
    }
   ],
   "source": [
    "plt.figure(figsize=(15,5))\n",
    "plt.subplot(1,2,1)\n",
    "sns.boxplot(y=data['Price'])\n",
    "plt.subplot(1,2,2)\n",
    "sns.boxplot(y=data['Mileage'])\n",
    "plt.show()"
   ]
  },
  {
   "cell_type": "code",
   "execution_count": 14,
   "id": "dc2561bc-8724-4f75-97b6-eeee81291439",
   "metadata": {},
   "outputs": [],
   "source": [
    "data=data[['Price','Manufacturer','Prod. year','Engine volume','Mileage']]"
   ]
  },
  {
   "cell_type": "code",
   "execution_count": 15,
   "id": "23e75f44-173d-448f-93da-749215acc52a",
   "metadata": {},
   "outputs": [
    {
     "data": {
      "text/plain": [
       "<bound method DataFrame.count of        Price Manufacturer  Prod. year Engine volume    Mileage\n",
       "9492    5331   LAND ROVER        1999           1.8  204000 km\n",
       "7003   21953       SUBARU        2016           2.5   63000 km\n",
       "796    28241      HYUNDAI        2013           1.6   50015 km\n",
       "14583  10349      HYUNDAI        2014             2  509460 km\n",
       "5451   21012        DODGE        2012           3.6  160000 km\n",
       "...      ...          ...         ...           ...        ...\n",
       "6547    2901      HYUNDAI        2013           2.4  150440 km\n",
       "2919   21169         FORD        2004             2  239000 km\n",
       "7272   35438          BMW        2009     4.4 Turbo  960000 km\n",
       "7264      30        HONDA        2005           1.3       0 km\n",
       "17068   6899       NISSAN        2002           3.5  153000 km\n",
       "\n",
       "[1000 rows x 5 columns]>"
      ]
     },
     "execution_count": 15,
     "metadata": {},
     "output_type": "execute_result"
    }
   ],
   "source": [
    "data.count"
   ]
  },
  {
   "cell_type": "code",
   "execution_count": 16,
   "id": "50af02aa-e1db-44d9-aa5d-63894de54fc1",
   "metadata": {},
   "outputs": [
    {
     "data": {
      "text/html": [
       "<div>\n",
       "<style scoped>\n",
       "    .dataframe tbody tr th:only-of-type {\n",
       "        vertical-align: middle;\n",
       "    }\n",
       "\n",
       "    .dataframe tbody tr th {\n",
       "        vertical-align: top;\n",
       "    }\n",
       "\n",
       "    .dataframe thead th {\n",
       "        text-align: right;\n",
       "    }\n",
       "</style>\n",
       "<table border=\"1\" class=\"dataframe\">\n",
       "  <thead>\n",
       "    <tr style=\"text-align: right;\">\n",
       "      <th></th>\n",
       "      <th>Price</th>\n",
       "      <th>Manufacturer</th>\n",
       "      <th>Prod. year</th>\n",
       "      <th>Engine volume</th>\n",
       "      <th>Mileage</th>\n",
       "    </tr>\n",
       "  </thead>\n",
       "  <tbody>\n",
       "    <tr>\n",
       "      <th>9492</th>\n",
       "      <td>5331</td>\n",
       "      <td>LAND ROVER</td>\n",
       "      <td>1999</td>\n",
       "      <td>1.8</td>\n",
       "      <td>204000 km</td>\n",
       "    </tr>\n",
       "    <tr>\n",
       "      <th>7003</th>\n",
       "      <td>21953</td>\n",
       "      <td>SUBARU</td>\n",
       "      <td>2016</td>\n",
       "      <td>2.5</td>\n",
       "      <td>63000 km</td>\n",
       "    </tr>\n",
       "    <tr>\n",
       "      <th>796</th>\n",
       "      <td>28241</td>\n",
       "      <td>HYUNDAI</td>\n",
       "      <td>2013</td>\n",
       "      <td>1.6</td>\n",
       "      <td>50015 km</td>\n",
       "    </tr>\n",
       "    <tr>\n",
       "      <th>14583</th>\n",
       "      <td>10349</td>\n",
       "      <td>HYUNDAI</td>\n",
       "      <td>2014</td>\n",
       "      <td>2</td>\n",
       "      <td>509460 km</td>\n",
       "    </tr>\n",
       "    <tr>\n",
       "      <th>5451</th>\n",
       "      <td>21012</td>\n",
       "      <td>DODGE</td>\n",
       "      <td>2012</td>\n",
       "      <td>3.6</td>\n",
       "      <td>160000 km</td>\n",
       "    </tr>\n",
       "  </tbody>\n",
       "</table>\n",
       "</div>"
      ],
      "text/plain": [
       "       Price Manufacturer  Prod. year Engine volume    Mileage\n",
       "9492    5331   LAND ROVER        1999           1.8  204000 km\n",
       "7003   21953       SUBARU        2016           2.5   63000 km\n",
       "796    28241      HYUNDAI        2013           1.6   50015 km\n",
       "14583  10349      HYUNDAI        2014             2  509460 km\n",
       "5451   21012        DODGE        2012           3.6  160000 km"
      ]
     },
     "execution_count": 16,
     "metadata": {},
     "output_type": "execute_result"
    }
   ],
   "source": [
    "data.head()"
   ]
  },
  {
   "cell_type": "code",
   "execution_count": 17,
   "id": "d23d9ea0-cfa9-4c70-bb97-9763e735d99d",
   "metadata": {},
   "outputs": [],
   "source": [
    "data.columns=['price','manufac','prod. yr','engine v','mil']"
   ]
  },
  {
   "cell_type": "code",
   "execution_count": 18,
   "id": "4eca2db0-1c17-4223-bd2f-e936ca80ca80",
   "metadata": {},
   "outputs": [
    {
     "data": {
      "text/html": [
       "<div>\n",
       "<style scoped>\n",
       "    .dataframe tbody tr th:only-of-type {\n",
       "        vertical-align: middle;\n",
       "    }\n",
       "\n",
       "    .dataframe tbody tr th {\n",
       "        vertical-align: top;\n",
       "    }\n",
       "\n",
       "    .dataframe thead th {\n",
       "        text-align: right;\n",
       "    }\n",
       "</style>\n",
       "<table border=\"1\" class=\"dataframe\">\n",
       "  <thead>\n",
       "    <tr style=\"text-align: right;\">\n",
       "      <th></th>\n",
       "      <th>price</th>\n",
       "      <th>manufac</th>\n",
       "      <th>prod. yr</th>\n",
       "      <th>engine v</th>\n",
       "      <th>mil</th>\n",
       "    </tr>\n",
       "  </thead>\n",
       "  <tbody>\n",
       "    <tr>\n",
       "      <th>9492</th>\n",
       "      <td>5331</td>\n",
       "      <td>LAND ROVER</td>\n",
       "      <td>1999</td>\n",
       "      <td>1.8</td>\n",
       "      <td>204000 km</td>\n",
       "    </tr>\n",
       "    <tr>\n",
       "      <th>7003</th>\n",
       "      <td>21953</td>\n",
       "      <td>SUBARU</td>\n",
       "      <td>2016</td>\n",
       "      <td>2.5</td>\n",
       "      <td>63000 km</td>\n",
       "    </tr>\n",
       "    <tr>\n",
       "      <th>796</th>\n",
       "      <td>28241</td>\n",
       "      <td>HYUNDAI</td>\n",
       "      <td>2013</td>\n",
       "      <td>1.6</td>\n",
       "      <td>50015 km</td>\n",
       "    </tr>\n",
       "    <tr>\n",
       "      <th>14583</th>\n",
       "      <td>10349</td>\n",
       "      <td>HYUNDAI</td>\n",
       "      <td>2014</td>\n",
       "      <td>2</td>\n",
       "      <td>509460 km</td>\n",
       "    </tr>\n",
       "    <tr>\n",
       "      <th>5451</th>\n",
       "      <td>21012</td>\n",
       "      <td>DODGE</td>\n",
       "      <td>2012</td>\n",
       "      <td>3.6</td>\n",
       "      <td>160000 km</td>\n",
       "    </tr>\n",
       "  </tbody>\n",
       "</table>\n",
       "</div>"
      ],
      "text/plain": [
       "       price     manufac  prod. yr engine v        mil\n",
       "9492    5331  LAND ROVER      1999      1.8  204000 km\n",
       "7003   21953      SUBARU      2016      2.5   63000 km\n",
       "796    28241     HYUNDAI      2013      1.6   50015 km\n",
       "14583  10349     HYUNDAI      2014        2  509460 km\n",
       "5451   21012       DODGE      2012      3.6  160000 km"
      ]
     },
     "execution_count": 18,
     "metadata": {},
     "output_type": "execute_result"
    }
   ],
   "source": [
    "data.head()"
   ]
  },
  {
   "cell_type": "code",
   "execution_count": 20,
   "id": "64b6a0b9-4c4f-43aa-a824-dc33f9ed02d5",
   "metadata": {},
   "outputs": [
    {
     "data": {
      "image/png": "[encoded data removed]",
      "text/plain": [
       "<Figure size 1500x500 with 2 Axes>"
      ]
     },
     "metadata": {},
     "output_type": "display_data"
    }
   ],
   "source": [
    "plt.figure(figsize=(15,5))\n",
    "plt.subplot(1,2,1)\n",
    "sns.boxplot(y=data['prod. yr'])\n",
    "plt.subplot(1,2,2)\n",
    "sns.boxplot(y=data['mil'])\n",
    "plt.show()"
   ]
  },
  {
   "cell_type": "code",
   "execution_count": 21,
   "id": "fc3cab7c-ae16-405d-a8e9-bb7179c8879f",
   "metadata": {},
   "outputs": [],
   "source": [
    "q1,q3=data['prod. yr'].quantile([.25,.75])"
   ]
  },
  {
   "cell_type": "code",
   "execution_count": 22,
   "id": "85c07c2f-1e18-4701-8c6e-952927696038",
   "metadata": {},
   "outputs": [
    {
     "data": {
      "text/plain": [
       "2009.0"
      ]
     },
     "execution_count": 22,
     "metadata": {},
     "output_type": "execute_result"
    }
   ],
   "source": [
    "q1"
   ]
  },
  {
   "cell_type": "code",
   "execution_count": 23,
   "id": "0f945475-b208-45c0-bc86-ec83edc37c76",
   "metadata": {},
   "outputs": [
    {
     "data": {
      "text/plain": [
       "2014.0"
      ]
     },
     "execution_count": 23,
     "metadata": {},
     "output_type": "execute_result"
    }
   ],
   "source": [
    "q3"
   ]
  },
  {
   "cell_type": "code",
   "execution_count": 24,
   "id": "35197d7d-41ae-45ee-b035-10318b1f616f",
   "metadata": {},
   "outputs": [],
   "source": [
    "IQR=(q3-q1)"
   ]
  },
  {
   "cell_type": "code",
   "execution_count": 25,
   "id": "60cf0b9e-3381-4471-8e4c-b56986141b7d",
   "metadata": {},
   "outputs": [],
   "source": [
    "lower=q1-1.5*(IQR)\n",
    "upper=q3+1.5*(IQR)"
   ]
  },
  {
   "cell_type": "code",
   "execution_count": 26,
   "id": "948f1242-fad1-4fb3-afdf-b4b0c1da446e",
   "metadata": {},
   "outputs": [
    {
     "data": {
      "text/plain": [
       "2001.5"
      ]
     },
     "execution_count": 26,
     "metadata": {},
     "output_type": "execute_result"
    }
   ],
   "source": [
    "lower"
   ]
  },
  {
   "cell_type": "code",
   "execution_count": 27,
   "id": "1ba25903-9f9f-4e44-9568-4e48d573e27e",
   "metadata": {},
   "outputs": [
    {
     "data": {
      "text/plain": [
       "2021.5"
      ]
     },
     "execution_count": 27,
     "metadata": {},
     "output_type": "execute_result"
    }
   ],
   "source": [
    "upper"
   ]
  },
  {
   "cell_type": "code",
   "execution_count": 34,
   "id": "899fa499-23f3-4919-a06a-56fd62be2f59",
   "metadata": {},
   "outputs": [],
   "source": [
    "data['prod. yr']=np.where(data['prod. yr']<lower,lower, data['prod. yr'])"
   ]
  },
  {
   "cell_type": "code",
   "execution_count": 35,
   "id": "88c20f53-dc7b-4a47-a47d-1e792f3035a2",
   "metadata": {},
   "outputs": [
    {
     "data": {
      "image/png": "[encoded data removed]",
      "text/plain": [
       "<Figure size 640x480 with 1 Axes>"
      ]
     },
     "metadata": {},
     "output_type": "display_data"
    }
   ],
   "source": [
    "sns.boxplot(y=data['prod. yr'])\n",
    "plt.show()"
   ]
  },
  {
   "cell_type": "code",
   "execution_count": 36,
   "id": "67e6cdd3-b1c7-4a65-bec1-3015b99850c4",
   "metadata": {},
   "outputs": [],
   "source": [
    "from sklearn.model_selection import train_test_split\n"
   ]
  },
  {
   "cell_type": "code",
   "execution_count": 37,
   "id": "cc32b2f9-49ff-4022-8c07-eed8defb8631",
   "metadata": {},
   "outputs": [],
   "source": [
    "x=data.drop('price',axis=1)  #independent\n",
    "\n",
    "#all other col other than price are x\n",
    "y=data['price']    #dependent"
   ]
  },
  {
   "cell_type": "code",
   "execution_count": 38,
   "id": "a963c8e4-832b-4e5d-ac17-680c9d536e92",
   "metadata": {},
   "outputs": [
    {
     "data": {
      "text/html": [
       "<div>\n",
       "<style scoped>\n",
       "    .dataframe tbody tr th:only-of-type {\n",
       "        vertical-align: middle;\n",
       "    }\n",
       "\n",
       "    .dataframe tbody tr th {\n",
       "        vertical-align: top;\n",
       "    }\n",
       "\n",
       "    .dataframe thead th {\n",
       "        text-align: right;\n",
       "    }\n",
       "</style>\n",
       "<table border=\"1\" class=\"dataframe\">\n",
       "  <thead>\n",
       "    <tr style=\"text-align: right;\">\n",
       "      <th></th>\n",
       "      <th>manufac</th>\n",
       "      <th>prod. yr</th>\n",
       "      <th>engine v</th>\n",
       "      <th>mil</th>\n",
       "    </tr>\n",
       "  </thead>\n",
       "  <tbody>\n",
       "    <tr>\n",
       "      <th>9492</th>\n",
       "      <td>LAND ROVER</td>\n",
       "      <td>2001.5</td>\n",
       "      <td>1.8</td>\n",
       "      <td>204000 km</td>\n",
       "    </tr>\n",
       "    <tr>\n",
       "      <th>7003</th>\n",
       "      <td>SUBARU</td>\n",
       "      <td>2016.0</td>\n",
       "      <td>2.5</td>\n",
       "      <td>63000 km</td>\n",
       "    </tr>\n",
       "    <tr>\n",
       "      <th>796</th>\n",
       "      <td>HYUNDAI</td>\n",
       "      <td>2013.0</td>\n",
       "      <td>1.6</td>\n",
       "      <td>50015 km</td>\n",
       "    </tr>\n",
       "    <tr>\n",
       "      <th>14583</th>\n",
       "      <td>HYUNDAI</td>\n",
       "      <td>2014.0</td>\n",
       "      <td>2</td>\n",
       "      <td>509460 km</td>\n",
       "    </tr>\n",
       "    <tr>\n",
       "      <th>5451</th>\n",
       "      <td>DODGE</td>\n",
       "      <td>2012.0</td>\n",
       "      <td>3.6</td>\n",
       "      <td>160000 km</td>\n",
       "    </tr>\n",
       "  </tbody>\n",
       "</table>\n",
       "</div>"
      ],
      "text/plain": [
       "          manufac  prod. yr engine v        mil\n",
       "9492   LAND ROVER    2001.5      1.8  204000 km\n",
       "7003       SUBARU    2016.0      2.5   63000 km\n",
       "796       HYUNDAI    2013.0      1.6   50015 km\n",
       "14583     HYUNDAI    2014.0        2  509460 km\n",
       "5451        DODGE    2012.0      3.6  160000 km"
      ]
     },
     "execution_count": 38,
     "metadata": {},
     "output_type": "execute_result"
    }
   ],
   "source": [
    "x.head()"
   ]
  },
  {
   "cell_type": "code",
   "execution_count": 39,
   "id": "50961b7e-2591-424a-95e9-815685cc5d80",
   "metadata": {},
   "outputs": [
    {
     "data": {
      "text/plain": [
       "9492      5331\n",
       "7003     21953\n",
       "796      28241\n",
       "14583    10349\n",
       "5451     21012\n",
       "Name: price, dtype: int64"
      ]
     },
     "execution_count": 39,
     "metadata": {},
     "output_type": "execute_result"
    }
   ],
   "source": [
    "y.head()\n"
   ]
  },
  {
   "cell_type": "code",
   "execution_count": 40,
   "id": "524fd244-cf20-4ac9-a341-e527f76bfebc",
   "metadata": {},
   "outputs": [
    {
     "data": {
      "text/html": [
       "<div>\n",
       "<style scoped>\n",
       "    .dataframe tbody tr th:only-of-type {\n",
       "        vertical-align: middle;\n",
       "    }\n",
       "\n",
       "    .dataframe tbody tr th {\n",
       "        vertical-align: top;\n",
       "    }\n",
       "\n",
       "    .dataframe thead th {\n",
       "        text-align: right;\n",
       "    }\n",
       "</style>\n",
       "<table border=\"1\" class=\"dataframe\">\n",
       "  <thead>\n",
       "    <tr style=\"text-align: right;\">\n",
       "      <th></th>\n",
       "      <th>price</th>\n",
       "      <th>manufac</th>\n",
       "      <th>prod. yr</th>\n",
       "      <th>engine v</th>\n",
       "      <th>mil</th>\n",
       "    </tr>\n",
       "  </thead>\n",
       "  <tbody>\n",
       "    <tr>\n",
       "      <th>9492</th>\n",
       "      <td>5331</td>\n",
       "      <td>LAND ROVER</td>\n",
       "      <td>2001.5</td>\n",
       "      <td>1.8</td>\n",
       "      <td>204000 km</td>\n",
       "    </tr>\n",
       "    <tr>\n",
       "      <th>7003</th>\n",
       "      <td>21953</td>\n",
       "      <td>SUBARU</td>\n",
       "      <td>2016.0</td>\n",
       "      <td>2.5</td>\n",
       "      <td>63000 km</td>\n",
       "    </tr>\n",
       "    <tr>\n",
       "      <th>796</th>\n",
       "      <td>28241</td>\n",
       "      <td>HYUNDAI</td>\n",
       "      <td>2013.0</td>\n",
       "      <td>1.6</td>\n",
       "      <td>50015 km</td>\n",
       "    </tr>\n",
       "    <tr>\n",
       "      <th>14583</th>\n",
       "      <td>10349</td>\n",
       "      <td>HYUNDAI</td>\n",
       "      <td>2014.0</td>\n",
       "      <td>2</td>\n",
       "      <td>509460 km</td>\n",
       "    </tr>\n",
       "    <tr>\n",
       "      <th>5451</th>\n",
       "      <td>21012</td>\n",
       "      <td>DODGE</td>\n",
       "      <td>2012.0</td>\n",
       "      <td>3.6</td>\n",
       "      <td>160000 km</td>\n",
       "    </tr>\n",
       "  </tbody>\n",
       "</table>\n",
       "</div>"
      ],
      "text/plain": [
       "       price     manufac  prod. yr engine v        mil\n",
       "9492    5331  LAND ROVER    2001.5      1.8  204000 km\n",
       "7003   21953      SUBARU    2016.0      2.5   63000 km\n",
       "796    28241     HYUNDAI    2013.0      1.6   50015 km\n",
       "14583  10349     HYUNDAI    2014.0        2  509460 km\n",
       "5451   21012       DODGE    2012.0      3.6  160000 km"
      ]
     },
     "execution_count": 40,
     "metadata": {},
     "output_type": "execute_result"
    }
   ],
   "source": [
    "data.head()"
   ]
  },
  {
   "cell_type": "code",
   "execution_count": 44,
   "id": "b8ab360e-f0ab-45c1-9c4c-84585da636e0",
   "metadata": {},
   "outputs": [],
   "source": [
    "x_train,x_test,y_train,y_test=train_test_split(x,y,test_size=0.2)"
   ]
  },
  {
   "cell_type": "code",
   "execution_count": 45,
   "id": "dbbea245-ec8a-4e4d-9092-0e2f693748c1",
   "metadata": {},
   "outputs": [
    {
     "data": {
      "text/html": [
       "<div>\n",
       "<style scoped>\n",
       "    .dataframe tbody tr th:only-of-type {\n",
       "        vertical-align: middle;\n",
       "    }\n",
       "\n",
       "    .dataframe tbody tr th {\n",
       "        vertical-align: top;\n",
       "    }\n",
       "\n",
       "    .dataframe thead th {\n",
       "        text-align: right;\n",
       "    }\n",
       "</style>\n",
       "<table border=\"1\" class=\"dataframe\">\n",
       "  <thead>\n",
       "    <tr style=\"text-align: right;\">\n",
       "      <th></th>\n",
       "      <th>manufac</th>\n",
       "      <th>prod. yr</th>\n",
       "      <th>engine v</th>\n",
       "      <th>mil</th>\n",
       "    </tr>\n",
       "  </thead>\n",
       "  <tbody>\n",
       "    <tr>\n",
       "      <th>16873</th>\n",
       "      <td>BMW</td>\n",
       "      <td>2015.0</td>\n",
       "      <td>3.0 Turbo</td>\n",
       "      <td>56000 km</td>\n",
       "    </tr>\n",
       "    <tr>\n",
       "      <th>5154</th>\n",
       "      <td>MERCEDES-BENZ</td>\n",
       "      <td>2008.0</td>\n",
       "      <td>2.2 Turbo</td>\n",
       "      <td>200000 km</td>\n",
       "    </tr>\n",
       "    <tr>\n",
       "      <th>13691</th>\n",
       "      <td>KIA</td>\n",
       "      <td>2012.0</td>\n",
       "      <td>2</td>\n",
       "      <td>225307 km</td>\n",
       "    </tr>\n",
       "    <tr>\n",
       "      <th>4085</th>\n",
       "      <td>BMW</td>\n",
       "      <td>2001.5</td>\n",
       "      <td>2.2</td>\n",
       "      <td>200543 km</td>\n",
       "    </tr>\n",
       "    <tr>\n",
       "      <th>12483</th>\n",
       "      <td>TOYOTA</td>\n",
       "      <td>2008.0</td>\n",
       "      <td>1.5</td>\n",
       "      <td>111111 km</td>\n",
       "    </tr>\n",
       "  </tbody>\n",
       "</table>\n",
       "</div>"
      ],
      "text/plain": [
       "             manufac  prod. yr   engine v        mil\n",
       "16873            BMW    2015.0  3.0 Turbo   56000 km\n",
       "5154   MERCEDES-BENZ    2008.0  2.2 Turbo  200000 km\n",
       "13691            KIA    2012.0          2  225307 km\n",
       "4085             BMW    2001.5        2.2  200543 km\n",
       "12483         TOYOTA    2008.0        1.5  111111 km"
      ]
     },
     "execution_count": 45,
     "metadata": {},
     "output_type": "execute_result"
    }
   ],
   "source": [
    "x_train.head()"
   ]
  },
  {
   "cell_type": "code",
   "execution_count": 46,
   "id": "3319a96b-d6d8-47a9-bc47-e40712d04423",
   "metadata": {},
   "outputs": [
    {
     "data": {
      "text/plain": [
       "16873    94083\n",
       "5154       100\n",
       "13691     1333\n",
       "4085      8467\n",
       "12483    12544\n",
       "Name: price, dtype: int64"
      ]
     },
     "execution_count": 46,
     "metadata": {},
     "output_type": "execute_result"
    }
   ],
   "source": [
    "y_train.head()"
   ]
  },
  {
   "cell_type": "code",
   "execution_count": 47,
   "id": "d1384d4b-42f4-4192-843c-fe19a2e9c2b7",
   "metadata": {},
   "outputs": [
    {
     "data": {
      "text/html": [
       "<div>\n",
       "<style scoped>\n",
       "    .dataframe tbody tr th:only-of-type {\n",
       "        vertical-align: middle;\n",
       "    }\n",
       "\n",
       "    .dataframe tbody tr th {\n",
       "        vertical-align: top;\n",
       "    }\n",
       "\n",
       "    .dataframe thead th {\n",
       "        text-align: right;\n",
       "    }\n",
       "</style>\n",
       "<table border=\"1\" class=\"dataframe\">\n",
       "  <thead>\n",
       "    <tr style=\"text-align: right;\">\n",
       "      <th></th>\n",
       "      <th>manufac</th>\n",
       "      <th>prod. yr</th>\n",
       "      <th>engine v</th>\n",
       "      <th>mil</th>\n",
       "    </tr>\n",
       "  </thead>\n",
       "  <tbody>\n",
       "    <tr>\n",
       "      <th>14743</th>\n",
       "      <td>FORD</td>\n",
       "      <td>2001.5</td>\n",
       "      <td>2.5</td>\n",
       "      <td>100000 km</td>\n",
       "    </tr>\n",
       "    <tr>\n",
       "      <th>13130</th>\n",
       "      <td>TOYOTA</td>\n",
       "      <td>2007.0</td>\n",
       "      <td>1.5</td>\n",
       "      <td>194000 km</td>\n",
       "    </tr>\n",
       "    <tr>\n",
       "      <th>16357</th>\n",
       "      <td>TOYOTA</td>\n",
       "      <td>2012.0</td>\n",
       "      <td>2.5</td>\n",
       "      <td>64000 km</td>\n",
       "    </tr>\n",
       "    <tr>\n",
       "      <th>3097</th>\n",
       "      <td>HYUNDAI</td>\n",
       "      <td>2015.0</td>\n",
       "      <td>2</td>\n",
       "      <td>620755 km</td>\n",
       "    </tr>\n",
       "    <tr>\n",
       "      <th>14655</th>\n",
       "      <td>VOLKSWAGEN</td>\n",
       "      <td>2013.0</td>\n",
       "      <td>2.5</td>\n",
       "      <td>23184 km</td>\n",
       "    </tr>\n",
       "  </tbody>\n",
       "</table>\n",
       "</div>"
      ],
      "text/plain": [
       "          manufac  prod. yr engine v        mil\n",
       "14743        FORD    2001.5      2.5  100000 km\n",
       "13130      TOYOTA    2007.0      1.5  194000 km\n",
       "16357      TOYOTA    2012.0      2.5   64000 km\n",
       "3097      HYUNDAI    2015.0        2  620755 km\n",
       "14655  VOLKSWAGEN    2013.0      2.5   23184 km"
      ]
     },
     "execution_count": 47,
     "metadata": {},
     "output_type": "execute_result"
    }
   ],
   "source": [
    "x_test.head()"
   ]
  },
  {
   "cell_type": "code",
   "execution_count": 48,
   "id": "82660307-ae4b-4bed-93e2-4fba0a9fe146",
   "metadata": {},
   "outputs": [
    {
     "data": {
      "text/plain": [
       "14743     9408\n",
       "13130    10036\n",
       "16357    27598\n",
       "3097     10976\n",
       "14655     1411\n",
       "Name: price, dtype: int64"
      ]
     },
     "execution_count": 48,
     "metadata": {},
     "output_type": "execute_result"
    }
   ],
   "source": [
    "y_test.head()"
   ]
  },
  {
   "cell_type": "code",
   "execution_count": 65,
   "id": "6be68581-4f52-4543-9885-d0bcbea80e22",
   "metadata": {},
   "outputs": [],
   "source": [
    "from sklearn.linear_model import LinearRegression as lr"
   ]
  },
  {
   "cell_type": "code",
   "execution_count": 77,
   "id": "269a1514-b5a5-42a0-9904-552d609c2a96",
   "metadata": {},
   "outputs": [
    {
     "ename": "AttributeError",
     "evalue": "'DataFrame' object has no attribute '_validate_params'",
     "output_type": "error",
     "traceback": [
      "\u001b[1;31m---------------------------------------------------------------------------\u001b[0m",
      "\u001b[1;31mAttributeError\u001b[0m                            Traceback (most recent call last)",
      "\u001b[1;32m~\\AppData\\Local\\Temp\\ipykernel_7864\\3557823984.py\u001b[0m in \u001b[0;36m?\u001b[1;34m()\u001b[0m\n\u001b[1;32m----> 1\u001b[1;33m \u001b[0mlr\u001b[0m\u001b[1;33m.\u001b[0m\u001b[0mfit\u001b[0m\u001b[1;33m(\u001b[0m\u001b[0mx_train\u001b[0m\u001b[1;33m,\u001b[0m\u001b[0my_train\u001b[0m\u001b[1;33m)\u001b[0m\u001b[1;33m\u001b[0m\u001b[1;33m\u001b[0m\u001b[0m\n\u001b[0m",
      "\u001b[1;32m~\\AppData\\Local\\Programs\\Python\\Python312\\Lib\\site-packages\\sklearn\\base.py\u001b[0m in \u001b[0;36m?\u001b[1;34m(estimator, *args, **kwargs)\u001b[0m\n\u001b[0;32m   1462\u001b[0m                 \u001b[0mfit_method\u001b[0m\u001b[1;33m.\u001b[0m\u001b[0m__name__\u001b[0m \u001b[1;33m==\u001b[0m \u001b[1;34m\"partial_fit\"\u001b[0m \u001b[1;32mand\u001b[0m \u001b[0m_is_fitted\u001b[0m\u001b[1;33m(\u001b[0m\u001b[0mestimator\u001b[0m\u001b[1;33m)\u001b[0m\u001b[1;33m\u001b[0m\u001b[1;33m\u001b[0m\u001b[0m\n\u001b[0;32m   1463\u001b[0m             \u001b[1;33m)\u001b[0m\u001b[1;33m\u001b[0m\u001b[1;33m\u001b[0m\u001b[0m\n\u001b[0;32m   1464\u001b[0m \u001b[1;33m\u001b[0m\u001b[0m\n\u001b[0;32m   1465\u001b[0m             \u001b[1;32mif\u001b[0m \u001b[1;32mnot\u001b[0m \u001b[0mglobal_skip_validation\u001b[0m \u001b[1;32mand\u001b[0m \u001b[1;32mnot\u001b[0m \u001b[0mpartial_fit_and_fitted\u001b[0m\u001b[1;33m:\u001b[0m\u001b[1;33m\u001b[0m\u001b[1;33m\u001b[0m\u001b[0m\n\u001b[1;32m-> 1466\u001b[1;33m                 \u001b[0mestimator\u001b[0m\u001b[1;33m.\u001b[0m\u001b[0m_validate_params\u001b[0m\u001b[1;33m(\u001b[0m\u001b[1;33m)\u001b[0m\u001b[1;33m\u001b[0m\u001b[1;33m\u001b[0m\u001b[0m\n\u001b[0m\u001b[0;32m   1467\u001b[0m \u001b[1;33m\u001b[0m\u001b[0m\n\u001b[0;32m   1468\u001b[0m             with config_context(\n\u001b[0;32m   1469\u001b[0m                 skip_parameter_validation=(\n",
      "\u001b[1;32m~\\AppData\\Local\\Programs\\Python\\Python312\\Lib\\site-packages\\pandas\\core\\generic.py\u001b[0m in \u001b[0;36m?\u001b[1;34m(self, name)\u001b[0m\n\u001b[0;32m   6292\u001b[0m             \u001b[1;32mand\u001b[0m \u001b[0mname\u001b[0m \u001b[1;32mnot\u001b[0m \u001b[1;32min\u001b[0m \u001b[0mself\u001b[0m\u001b[1;33m.\u001b[0m\u001b[0m_accessors\u001b[0m\u001b[1;33m\u001b[0m\u001b[1;33m\u001b[0m\u001b[0m\n\u001b[0;32m   6293\u001b[0m             \u001b[1;32mand\u001b[0m \u001b[0mself\u001b[0m\u001b[1;33m.\u001b[0m\u001b[0m_info_axis\u001b[0m\u001b[1;33m.\u001b[0m\u001b[0m_can_hold_identifiers_and_holds_name\u001b[0m\u001b[1;33m(\u001b[0m\u001b[0mname\u001b[0m\u001b[1;33m)\u001b[0m\u001b[1;33m\u001b[0m\u001b[1;33m\u001b[0m\u001b[0m\n\u001b[0;32m   6294\u001b[0m         \u001b[1;33m)\u001b[0m\u001b[1;33m:\u001b[0m\u001b[1;33m\u001b[0m\u001b[1;33m\u001b[0m\u001b[0m\n\u001b[0;32m   6295\u001b[0m             \u001b[1;32mreturn\u001b[0m \u001b[0mself\u001b[0m\u001b[1;33m[\u001b[0m\u001b[0mname\u001b[0m\u001b[1;33m]\u001b[0m\u001b[1;33m\u001b[0m\u001b[1;33m\u001b[0m\u001b[0m\n\u001b[1;32m-> 6296\u001b[1;33m         \u001b[1;32mreturn\u001b[0m \u001b[0mobject\u001b[0m\u001b[1;33m.\u001b[0m\u001b[0m__getattribute__\u001b[0m\u001b[1;33m(\u001b[0m\u001b[0mself\u001b[0m\u001b[1;33m,\u001b[0m \u001b[0mname\u001b[0m\u001b[1;33m)\u001b[0m\u001b[1;33m\u001b[0m\u001b[1;33m\u001b[0m\u001b[0m\n\u001b[0m",
      "\u001b[1;31mAttributeError\u001b[0m: 'DataFrame' object has no attribute '_validate_params'"
     ]
    }
   ],
   "source": [
    "lr.fit(x_train,y_train)"
   ]
  },
  {
   "cell_type": "code",
   "execution_count": null,
   "id": "81f683f5-89c8-4f0a-ad56-bf166c051fcc",
   "metadata": {},
   "outputs": [],
   "source": []
  }
 ],
 "metadata": {
  "kernelspec": {
   "display_name": "Python 3 (ipykernel)",
   "language": "python",
   "name": "python3"
  },
  "language_info": {
   "codemirror_mode": {
    "name": "ipython",
    "version": 3
   },
   "file_extension": ".py",
   "mimetype": "text/x-python",
   "name": "python",
   "nbconvert_exporter": "python",
   "pygments_lexer": "ipython3",
   "version": "3.12.1"
  }
 },
 "nbformat": 4,
 "nbformat_minor": 5
}
